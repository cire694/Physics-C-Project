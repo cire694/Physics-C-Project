{
 "cells": [
  {
   "cell_type": "code",
   "execution_count": 2,
   "metadata": {},
   "outputs": [
    {
     "ename": "KeyboardInterrupt",
     "evalue": "",
     "output_type": "error",
     "traceback": [
      "\u001b[0;31m---------------------------------------------------------------------------\u001b[0m",
      "\u001b[0;31mKeyboardInterrupt\u001b[0m                         Traceback (most recent call last)",
      "Cell \u001b[0;32mIn[2], line 2\u001b[0m\n\u001b[1;32m      1\u001b[0m \u001b[38;5;28;01mfrom\u001b[39;00m \u001b[38;5;21;01mvpython\u001b[39;00m \u001b[38;5;28;01mimport\u001b[39;00m \u001b[38;5;241m*\u001b[39m\n\u001b[0;32m----> 2\u001b[0m \u001b[43msphere\u001b[49m\u001b[43m(\u001b[49m\u001b[43m)\u001b[49m\n",
      "File \u001b[0;32m/Library/Frameworks/Python.framework/Versions/3.10/lib/python3.10/site-packages/vpython/vpython.py:1189\u001b[0m, in \u001b[0;36msphere.__init__\u001b[0;34m(self, **args)\u001b[0m\n\u001b[1;32m   1187\u001b[0m args[\u001b[38;5;124m'\u001b[39m\u001b[38;5;124m_default_size\u001b[39m\u001b[38;5;124m'\u001b[39m] \u001b[38;5;241m=\u001b[39m vector(\u001b[38;5;241m2\u001b[39m,\u001b[38;5;241m2\u001b[39m,\u001b[38;5;241m2\u001b[39m)\n\u001b[1;32m   1188\u001b[0m args[\u001b[38;5;124m'\u001b[39m\u001b[38;5;124m_objName\u001b[39m\u001b[38;5;124m'\u001b[39m] \u001b[38;5;241m=\u001b[39m \u001b[38;5;124m\"\u001b[39m\u001b[38;5;124msphere\u001b[39m\u001b[38;5;124m\"\u001b[39m\n\u001b[0;32m-> 1189\u001b[0m \u001b[38;5;28;43msuper\u001b[39;49m\u001b[43m(\u001b[49m\u001b[43msphere\u001b[49m\u001b[43m,\u001b[49m\u001b[43m \u001b[49m\u001b[38;5;28;43mself\u001b[39;49m\u001b[43m)\u001b[49m\u001b[38;5;241;43m.\u001b[39;49m\u001b[43msetup\u001b[49m\u001b[43m(\u001b[49m\u001b[43margs\u001b[49m\u001b[43m)\u001b[49m\n\u001b[1;32m   1190\u001b[0m \u001b[38;5;28mself\u001b[39m\u001b[38;5;241m.\u001b[39m_sizing \u001b[38;5;241m=\u001b[39m \u001b[38;5;28;01mFalse\u001b[39;00m\n",
      "File \u001b[0;32m/Library/Frameworks/Python.framework/Versions/3.10/lib/python3.10/site-packages/vpython/vpython.py:612\u001b[0m, in \u001b[0;36mstandardAttributes.setup\u001b[0;34m(self, args)\u001b[0m\n\u001b[1;32m    611\u001b[0m \u001b[38;5;28;01mdef\u001b[39;00m \u001b[38;5;21msetup\u001b[39m(\u001b[38;5;28mself\u001b[39m, args):\n\u001b[0;32m--> 612\u001b[0m     \u001b[38;5;28;43msuper\u001b[39;49m\u001b[43m(\u001b[49m\u001b[43mstandardAttributes\u001b[49m\u001b[43m,\u001b[49m\u001b[43m \u001b[49m\u001b[38;5;28;43mself\u001b[39;49m\u001b[43m)\u001b[49m\u001b[38;5;241;43m.\u001b[39;49m\u001b[38;5;21;43m__init__\u001b[39;49m\u001b[43m(\u001b[49m\u001b[43m)\u001b[49m\n\u001b[1;32m    613\u001b[0m     \u001b[38;5;28mself\u001b[39m\u001b[38;5;241m.\u001b[39m_constructing \u001b[38;5;241m=\u001b[39m \u001b[38;5;28;01mTrue\u001b[39;00m  \u001b[38;5;66;03m## calls to setters are from constructor\u001b[39;00m\n\u001b[1;32m    615\u001b[0m     objName \u001b[38;5;241m=\u001b[39m \u001b[38;5;28mself\u001b[39m\u001b[38;5;241m.\u001b[39m_objName \u001b[38;5;241m=\u001b[39m args[\u001b[38;5;124m'\u001b[39m\u001b[38;5;124m_objName\u001b[39m\u001b[38;5;124m'\u001b[39m]  \u001b[38;5;66;03m## identifies object type\u001b[39;00m\n",
      "File \u001b[0;32m/Library/Frameworks/Python.framework/Versions/3.10/lib/python3.10/site-packages/vpython/vpython.py:265\u001b[0m, in \u001b[0;36mbaseObj.__init__\u001b[0;34m(self, **kwargs)\u001b[0m\n\u001b[1;32m    262\u001b[0m \u001b[38;5;28;01mif\u001b[39;00m \u001b[38;5;129;01mnot\u001b[39;00m (baseObj\u001b[38;5;241m.\u001b[39m_view_constructed \u001b[38;5;129;01mor\u001b[39;00m\n\u001b[1;32m    263\u001b[0m         baseObj\u001b[38;5;241m.\u001b[39m_canvas_constructing):\n\u001b[1;32m    264\u001b[0m     \u001b[38;5;28;01mif\u001b[39;00m _isnotebook:\n\u001b[0;32m--> 265\u001b[0m         \u001b[38;5;28;01mfrom\u001b[39;00m \u001b[38;5;21;01m.\u001b[39;00m\u001b[38;5;21;01mwith_notebook\u001b[39;00m \u001b[38;5;28;01mimport\u001b[39;00m _\n\u001b[1;32m    266\u001b[0m     \u001b[38;5;28;01melse\u001b[39;00m:\n\u001b[1;32m    267\u001b[0m         \u001b[38;5;28;01mfrom\u001b[39;00m \u001b[38;5;21;01m.\u001b[39;00m\u001b[38;5;21;01mno_notebook\u001b[39;00m \u001b[38;5;28;01mimport\u001b[39;00m _\n",
      "File \u001b[0;32m/Library/Frameworks/Python.framework/Versions/3.10/lib/python3.10/site-packages/vpython/with_notebook.py:154\u001b[0m\n\u001b[1;32m    152\u001b[0m baseObj\u001b[38;5;241m.\u001b[39mglow \u001b[38;5;241m=\u001b[39m GlowWidget(wsport\u001b[38;5;241m=\u001b[39m__SOCKET_PORT, wsuri\u001b[38;5;241m=\u001b[39m\u001b[38;5;124m'\u001b[39m\u001b[38;5;124m/ws\u001b[39m\u001b[38;5;124m'\u001b[39m)\n\u001b[1;32m    153\u001b[0m \u001b[38;5;28;01mwhile\u001b[39;00m (\u001b[38;5;129;01mnot\u001b[39;00m wsConnected):\n\u001b[0;32m--> 154\u001b[0m     \u001b[43mtime\u001b[49m\u001b[38;5;241;43m.\u001b[39;49m\u001b[43msleep\u001b[49m\u001b[43m(\u001b[49m\u001b[38;5;241;43m0.1\u001b[39;49m\u001b[43m)\u001b[49m          \u001b[38;5;66;03m# wait for websocket to connect\u001b[39;00m\n\u001b[1;32m    156\u001b[0m baseObj\u001b[38;5;241m.\u001b[39mtrigger()  \u001b[38;5;66;03m# start the trigger ping-pong process\u001b[39;00m\n\u001b[1;32m    159\u001b[0m \u001b[38;5;66;03m# Same justification as above for removing the ipykernel check.\u001b[39;00m\n\u001b[1;32m    160\u001b[0m \u001b[38;5;66;03m# There was also an IPython version check for >=4, which was\u001b[39;00m\n\u001b[1;32m    161\u001b[0m \u001b[38;5;66;03m# released in Nov 2015. Ok to stop supporting in 2.019 I think.\u001b[39;00m\n",
      "\u001b[0;31mKeyboardInterrupt\u001b[0m: "
     ]
    }
   ],
   "source": [
    "from vpython import *\n",
    "sphere()"
   ]
  }
 ],
 "metadata": {
  "kernelspec": {
   "display_name": "Python 3",
   "language": "python",
   "name": "python3"
  },
  "language_info": {
   "codemirror_mode": {
    "name": "ipython",
    "version": 3
   },
   "file_extension": ".py",
   "mimetype": "text/x-python",
   "name": "python",
   "nbconvert_exporter": "python",
   "pygments_lexer": "ipython3",
   "version": "3.10.6"
  }
 },
 "nbformat": 4,
 "nbformat_minor": 2
}
